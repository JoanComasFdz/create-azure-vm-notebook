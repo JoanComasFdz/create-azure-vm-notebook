{
 "cells": [
  {
   "cell_type": "markdown",
   "metadata": {},
   "source": [
    "# Create a VM from an existing snapshot"
   ]
  },
  {
   "cell_type": "markdown",
   "metadata": {},
   "source": [
    "Source: [Create a Windows VM from a specialized disk by using PowerShell](https://docs.microsoft.com/en-us/azure/virtual-machines/windows/create-vm-specialized#option-3-copy-an-existing-azure-vm)\n",
    "\n",
    "\n",
    "Set the following variables and everything will be done for you"
   ]
  },
  {
   "cell_type": "code",
   "execution_count": null,
   "metadata": {
    "dotnet_interactive": {
     "language": "pwsh"
    }
   },
   "outputs": [],
   "source": [
    "$resourceGroupName = 'RG-ForVMs' \n",
    "$vmName = 'FromSnapshot'\n",
    "$location = 'westus2' \n",
    "$snapshotName = 'Win10EntN21H2-snapshot'\n",
    "$vmSize = \"Standard_B2ms\"\n",
    "$rdpFilePath = \"C:\\Work\\\" + $vmName + \".rdp\" "
   ]
  },
  {
   "cell_type": "markdown",
   "metadata": {},
   "source": [
    "If you want to explore your snapshots:"
   ]
  },
  {
   "cell_type": "code",
   "execution_count": null,
   "metadata": {
    "dotnet_interactive": {
     "language": "pwsh"
    }
   },
   "outputs": [],
   "source": [
    "Get-AzSnapshot -ResourceGroupName $resourceGroupName | Select Name"
   ]
  },
  {
   "cell_type": "code",
   "execution_count": null,
   "metadata": {
    "dotnet_interactive": {
     "language": "pwsh"
    }
   },
   "outputs": [],
   "source": [
    "#Get the snapshot\n",
    "$snapshot = Get-AzSnapshot -ResourceGroupName $resourceGroupName -Name $snapshotName"
   ]
  },
  {
   "cell_type": "code",
   "execution_count": null,
   "metadata": {
    "dotnet_interactive": {
     "language": "pwsh"
    }
   },
   "outputs": [],
   "source": [
    "# Create the disk\n",
    "$osDiskName = $vmName + \"Disk\"\n",
    "$osDiskConfig = New-AzDiskConfig  -Location $location -CreateOption Copy -SourceResourceId $snapshot.Id\n",
    "$osDisk = New-AzDisk -DiskName $osDiskName -Disk $osDiskConfig -ResourceGroupName $resourceGroupName"
   ]
  },
  {
   "cell_type": "code",
   "execution_count": null,
   "metadata": {
    "dotnet_interactive": {
     "language": "pwsh"
    }
   },
   "outputs": [],
   "source": [
    "# Create netwrok components\n",
    "$subnetName = $vmName + 'SubNet'\n",
    "$singleSubnet = New-AzVirtualNetworkSubnetConfig -Name $subnetName -AddressPrefix 10.0.0.0/24\n",
    "$vnetName = $vmName + \"VNet\"\n",
    "$vnet = New-AzVirtualNetwork -Name $vnetName -ResourceGroupName $resourceGroupName -Location $location -AddressPrefix 10.0.0.0/16 -Subnet $singleSubnet\n",
    "\n",
    "$nsgName = $vmName +\"Nsg\"\n",
    "$rdpRuleName = $vmName + \"RdpRule\"\n",
    "$rdpRule = New-AzNetworkSecurityRuleConfig -Name $rdpRuleName -Description \"Allow RDP\" -Access ALlow -Protocol Tcp -Direction Inbound -Priority 110 -SourceAddressPrefix Internet -SourcePortRange * -DestinationAddressPrefix * -DestinationPortRange 3389\n",
    "$nsg = New-AzNetworkSecurityGroup -ResourceGroupName $resourceGroupName -Location $location -Name $nsgName -SecurityRules $rdpRule\n",
    "\n",
    "$ipName = $vmName + \"IP\"\n",
    "$pip = New-AzPublicIpAddress -Name $ipName -ResourceGroupName $resourceGroupName -Location $location -AllocationMethod Dynamic\n",
    "\n",
    "$nicName = $vmName + \"NIC\"\n",
    "$nic = New-AzNetworkInterface -Name $nicName -ResourceGroupName $resourceGroupName -Location $location -SubnetId $vnet.Subnets[0].Id -PublicIpAddressId $pip.Id -NetworkSecurityGroupId $nsg.Id"
   ]
  },
  {
   "cell_type": "code",
   "execution_count": null,
   "metadata": {
    "dotnet_interactive": {
     "language": "pwsh"
    }
   },
   "outputs": [],
   "source": [
    "\n",
    "# Create VM config\n",
    "$vmConfig = New-AzVMConfig -VMName $vmName -VMSize $vmSize\n",
    "$vm = Add-AzVMNetworkInterface -VM $vmConfig -Id $nic.Id\n",
    "$vm = Set-AzVMOSDisk -VM $vm -ManagedDiskId $osDisk.Id -StorageAccountType Standard_LRS -DiskSizeInGB 128 -CreateOption Attach -Windows\n",
    "\n",
    "# Create the VM\n",
    "$createdVmInfo = New-AzVM -ResourceGroupName $resourceGroupName -Location $location -VM $vm\n",
    "$createdVmInfo\n"
   ]
  },
  {
   "cell_type": "markdown",
   "metadata": {},
   "source": [
    "## Connect to the VM"
   ]
  },
  {
   "cell_type": "code",
   "execution_count": null,
   "metadata": {
    "dotnet_interactive": {
     "language": "pwsh"
    }
   },
   "outputs": [],
   "source": [
    "Get-AzRemoteDesktopFile -ResourceGroupName $resourceGroupName -Name $vmName -Launch"
   ]
  },
  {
   "cell_type": "markdown",
   "metadata": {},
   "source": [
    "### Save the RDP file"
   ]
  },
  {
   "cell_type": "code",
   "execution_count": null,
   "metadata": {
    "dotnet_interactive": {
     "language": "pwsh"
    }
   },
   "outputs": [],
   "source": [
    "# Get-AzRemoteDesktopFile -ResourceGroupName $resourceGroupName -Name $vmName -LocalPath $rdpFilePath\n",
    "# Invoke-Item $localPath"
   ]
  }
 ],
 "metadata": {
  "kernelspec": {
   "display_name": ".NET (C#)",
   "language": "C#",
   "name": ".net-csharp"
  },
  "language_info": {
   "file_extension": ".cs",
   "mimetype": "text/x-csharp",
   "name": "C#",
   "pygments_lexer": "csharp",
   "version": "9.0"
  },
  "orig_nbformat": 4
 },
 "nbformat": 4,
 "nbformat_minor": 2
}
