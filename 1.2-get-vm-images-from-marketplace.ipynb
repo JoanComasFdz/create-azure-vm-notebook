{
 "cells": [
  {
   "cell_type": "markdown",
   "metadata": {
    "dotnet_interactive": {
     "language": "csharp"
    }
   },
   "source": [
    "# How to get VM image names\n",
    "VM Images in Azure are identified by the following parameters:\n",
    "- **Publisher**: It is not only the publishing company name, it may contain other info, like \"MicrosoftWindowsDesktop\".\n",
    "- **Offer**: This is like the pagackes, like \"Windows-10\", 'Windows-11\", etc.\n",
    "- **SKU**: This is the individual OS version number (21H1) plus the license version (Pro, Enterprise)\n",
    "- **Version**: This is like the compilation number of the release. You can use \"latest\" as well.\n",
    "\n",
    "Additionally, the available images depend on the region where you want to create the VM.\n",
    "\n",
    "In order to create a VM in Azure, you will need to create a URN with this 4 fields separated by `:`, like this:\n",
    "\n",
    "`Publisher:Offer:SKU:Version`\n",
    "\n",
    "In this notebook you will find how to explore all images available in azure, with PowerShell commands.\n",
    "\n",
    "It is higlhy adviced to check out the Microsoft Docs page about this topic:\n",
    "\n",
    "[Find and use Azure Marketplace VM images with Azure PowerShell](https://docs.microsoft.com/en-us/azure/virtual-machines/windows/cli-ps-findimage)"
   ]
  },
  {
   "cell_type": "markdown",
   "metadata": {},
   "source": [
    "## For development and PoC\n",
    "\n",
    "You can use your Visual Studio license to get some Windows 10 licenses. Check the windows 10 versions you have access to with your Visual Studio subscription here: https://docs.microsoft.com/es-es/azure/virtual-machines/windows/client-images"
   ]
  },
  {
   "cell_type": "markdown",
   "metadata": {},
   "source": [
    "## TL;DR;\n",
    "\n",
    "For a Windows 10 Enterprise, just use this image name:\n",
    "\n",
    "```\n",
    "MicrosoftWindowsDesktop:Windows-10:win10-21h2-entn:19044.1469.220116\n",
    "```"
   ]
  },
  {
   "cell_type": "markdown",
   "metadata": {},
   "source": [
    "## Finding images"
   ]
  },
  {
   "cell_type": "markdown",
   "metadata": {
    "dotnet_interactive": {
     "language": "csharp"
    }
   },
   "source": [
    "### Get the regions\n",
    "[Microsoft Docs](https://docs.microsoft.com/en-us/powershell/module/az.resources/get-azlocation)"
   ]
  },
  {
   "cell_type": "code",
   "execution_count": null,
   "metadata": {
    "dotnet_interactive": {
     "language": "pwsh"
    },
    "vscode": {
     "languageId": "dotnet-interactive.pwsh"
    }
   },
   "outputs": [],
   "source": [
    "Get-AzLocation"
   ]
  },
  {
   "cell_type": "markdown",
   "metadata": {},
   "source": [
    "Select the region and store it:"
   ]
  },
  {
   "cell_type": "code",
   "execution_count": null,
   "metadata": {
    "dotnet_interactive": {
     "language": "pwsh"
    },
    "vscode": {
     "languageId": "dotnet-interactive.pwsh"
    }
   },
   "outputs": [],
   "source": [
    "$location = \"westus2\""
   ]
  },
  {
   "cell_type": "markdown",
   "metadata": {},
   "source": [
    "## Get Publishers\n",
    "The list is inmense and it will take a long time to get (you can't even stop the operation and have to restart VS Code), so it is better to explore a bit in google what you are looking for and find the names you are looking for, like \"Microsoft\" or \"CentOS\" so you can filter them.\n",
    "\n",
    "For Microsoft OS, you are tipically using:\n",
    "- ``MicrosoftWindowsDesktop``\n",
    "- ``MicrosoftWindowsServer``"
   ]
  },
  {
   "cell_type": "code",
   "execution_count": null,
   "metadata": {
    "dotnet_interactive": {
     "language": "pwsh"
    },
    "vscode": {
     "languageId": "dotnet-interactive.pwsh"
    }
   },
   "outputs": [],
   "source": [
    "Get-AzVMImagePublisher -Location $location | where{$_.PublisherName -like \"*Windows*\"} | Select PublisherName"
   ]
  },
  {
   "cell_type": "markdown",
   "metadata": {},
   "source": [
    "Select the region and store it:"
   ]
  },
  {
   "cell_type": "code",
   "execution_count": null,
   "metadata": {
    "dotnet_interactive": {
     "language": "pwsh"
    },
    "vscode": {
     "languageId": "dotnet-interactive.pwsh"
    }
   },
   "outputs": [],
   "source": [
    "$publisher = \"MicrosoftWindowsDesktop\""
   ]
  },
  {
   "cell_type": "markdown",
   "metadata": {},
   "source": [
    "## Get offers"
   ]
  },
  {
   "cell_type": "code",
   "execution_count": null,
   "metadata": {
    "dotnet_interactive": {
     "language": "pwsh"
    },
    "vscode": {
     "languageId": "dotnet-interactive.pwsh"
    }
   },
   "outputs": [],
   "source": [
    "Get-AzVMImageOffer -Location $location -PublisherName $publisher | Select Offer"
   ]
  },
  {
   "cell_type": "markdown",
   "metadata": {},
   "source": [
    "Select the offer and store it:"
   ]
  },
  {
   "cell_type": "code",
   "execution_count": null,
   "metadata": {
    "dotnet_interactive": {
     "language": "pwsh"
    },
    "vscode": {
     "languageId": "dotnet-interactive.pwsh"
    }
   },
   "outputs": [],
   "source": [
    "$offer = \"Windows-11\""
   ]
  },
  {
   "cell_type": "markdown",
   "metadata": {},
   "source": [
    "## Get SKUs"
   ]
  },
  {
   "cell_type": "code",
   "execution_count": null,
   "metadata": {
    "dotnet_interactive": {
     "language": "pwsh"
    },
    "vscode": {
     "languageId": "dotnet-interactive.pwsh"
    }
   },
   "outputs": [],
   "source": [
    "Get-AzVMImageSku -Location $location -PublisherName $publisher -Offer $offer | Select Skus"
   ]
  },
  {
   "cell_type": "markdown",
   "metadata": {
    "dotnet_interactive": {
     "language": "pwsh"
    }
   },
   "source": [
    "Select the SKU and store it:"
   ]
  },
  {
   "cell_type": "code",
   "execution_count": null,
   "metadata": {
    "dotnet_interactive": {
     "language": "pwsh"
    },
    "vscode": {
     "languageId": "dotnet-interactive.pwsh"
    }
   },
   "outputs": [],
   "source": [
    "$sku = \"win11-21h2-ent\""
   ]
  },
  {
   "cell_type": "markdown",
   "metadata": {
    "dotnet_interactive": {
     "language": "pwsh"
    }
   },
   "source": [
    "## Get Versions"
   ]
  },
  {
   "cell_type": "code",
   "execution_count": null,
   "metadata": {
    "dotnet_interactive": {
     "language": "pwsh"
    },
    "vscode": {
     "languageId": "dotnet-interactive.pwsh"
    }
   },
   "outputs": [],
   "source": [
    "Get-AzVMImage -Location $location -PublisherName $publisher -Offer $offer -Skus $sku | Select Version"
   ]
  },
  {
   "cell_type": "markdown",
   "metadata": {},
   "source": [
    "Select the version and store it:"
   ]
  },
  {
   "cell_type": "code",
   "execution_count": null,
   "metadata": {
    "dotnet_interactive": {
     "language": "pwsh"
    },
    "vscode": {
     "languageId": "dotnet-interactive.pwsh"
    }
   },
   "outputs": [],
   "source": [
    "$version = \"22000.978.220910\""
   ]
  },
  {
   "cell_type": "markdown",
   "metadata": {
    "dotnet_interactive": {
     "language": "pwsh"
    }
   },
   "source": [
    "## Get your Image name (URN)"
   ]
  },
  {
   "cell_type": "code",
   "execution_count": null,
   "metadata": {
    "dotnet_interactive": {
     "language": "pwsh"
    },
    "vscode": {
     "languageId": "dotnet-interactive.pwsh"
    }
   },
   "outputs": [],
   "source": [
    "$imageName = $publisher+ \":\" + $offer + \":\" + $sku + \":\" + $version\n",
    "$imageName"
   ]
  }
 ],
 "metadata": {
  "kernelspec": {
   "display_name": ".NET (C#)",
   "language": "C#",
   "name": ".net-csharp"
  },
  "language_info": {
   "file_extension": ".cs",
   "mimetype": "text/x-csharp",
   "name": "C#",
   "pygments_lexer": "csharp",
   "version": "9.0"
  },
  "orig_nbformat": 4
 },
 "nbformat": 4,
 "nbformat_minor": 2
}
