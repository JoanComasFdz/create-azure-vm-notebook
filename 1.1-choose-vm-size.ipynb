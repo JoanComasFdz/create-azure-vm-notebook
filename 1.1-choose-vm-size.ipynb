{
 "cells": [
  {
   "cell_type": "code",
   "execution_count": null,
   "metadata": {
    "dotnet_interactive": {
     "language": "csharp"
    },
    "vscode": {
     "languageId": "dotnet-interactive.csharp"
    }
   },
   "outputs": [],
   "source": [
    "### Choose a size\n",
    "The size means how many CPUs, how much RAM, the hard drive, etc.\n",
    "\n",
    "> As of 15th Feb 2022, the links here are kinda useless, just use `Standard_D4s_v4`.\n",
    "\n",
    "Check out the following link to understand the available VMs and their pricing before deciding for one:\n",
    "\n",
    "[Windows Virtual Machines Pricing](https://azure.microsoft.com/en-us/pricing/details/virtual-machines/windows/)\n",
    "\n",
    "In addition, if you need Virtualization (WSL, Docker, etc), you need to check which ones have CPUs compatible with nested virtualization here [Azure compute unit (ACU)](https://docs.microsoft.com/en-us/azure/virtual-machines/acu). Look for trhe ones that have `***`.\n",
    "\n",
    "Yoy can also search for VM Sizes with the following code:"
   ]
  },
  {
   "cell_type": "code",
   "execution_count": null,
   "metadata": {
    "dotnet_interactive": {
     "language": "pwsh"
    },
    "vscode": {
     "languageId": "dotnet-interactive.pwsh"
    }
   },
   "outputs": [],
   "source": [
    "Get-AzVmSize -Location $location | Where-Object { $_.Name  -like \"*D3*\"}"
   ]
  }
 ],
 "metadata": {
  "kernelspec": {
   "display_name": ".NET (C#)",
   "language": "C#",
   "name": ".net-csharp"
  },
  "language_info": {
   "file_extension": ".cs",
   "mimetype": "text/x-csharp",
   "name": "C#",
   "pygments_lexer": "csharp",
   "version": "9.0"
  },
  "orig_nbformat": 4
 },
 "nbformat": 4,
 "nbformat_minor": 2
}
