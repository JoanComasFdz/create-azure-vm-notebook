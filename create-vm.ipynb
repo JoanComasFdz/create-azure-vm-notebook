{
 "cells": [
  {
   "cell_type": "markdown",
   "metadata": {
    "dotnet_interactive": {
     "language": "csharp"
    }
   },
   "source": [
    "# Create VM in Azure\n",
    "Follow this notebook to easily create virtual machines in Azure."
   ]
  },
  {
   "cell_type": "markdown",
   "metadata": {
    "dotnet_interactive": {
     "language": "pwsh"
    }
   },
   "source": [
    "### Choose a name for your VM\n",
    "Windows computer name cannot be more than 15 characters long, be entirely numeric, or contain the following characters: ` ~ ! @ # $ % ^ & * ( ) = + _ [ ] { } \\ | ; : . ' \" , < > / ?."
   ]
  },
  {
   "cell_type": "code",
   "execution_count": null,
   "metadata": {
    "dotnet_interactive": {
     "language": "pwsh"
    }
   },
   "outputs": [],
   "source": [
    "$vmName = \"Win10EntN21H2\""
   ]
  },
  {
   "cell_type": "markdown",
   "metadata": {},
   "source": [
    "### Choose the VM Image\n",
    "Folllow the instructions on [get-vm-images-from-marketplace.ipynb](\"./get-vm-images-from-marketplace.ipynb\") to choose an OS Image."
   ]
  },
  {
   "cell_type": "code",
   "execution_count": null,
   "metadata": {
    "dotnet_interactive": {
     "language": "pwsh"
    }
   },
   "outputs": [],
   "source": [
    "$imageName = \"MicrosoftWindowsDesktop:Windows-10:win10-21h2-entn:19044.1469.220116\""
   ]
  },
  {
   "cell_type": "markdown",
   "metadata": {},
   "source": [
    "### Choose a size\n",
    "The size means how many CPUs, how much RAM, the hard drive, etc.\n",
    "\n",
    "Check out the following link to understand the available VMs and their pricing before deciding for one:\n",
    "\n",
    "[Windows Virtual Machines Pricing](https://azure.microsoft.com/en-us/pricing/details/virtual-machines/windows/)"
   ]
  },
  {
   "cell_type": "code",
   "execution_count": null,
   "metadata": {
    "dotnet_interactive": {
     "language": "pwsh"
    }
   },
   "outputs": [],
   "source": [
    "$vmSize = \"Standard_B2ms\""
   ]
  },
  {
   "cell_type": "markdown",
   "metadata": {},
   "source": [
    "### Choose the region where to deploy the VM"
   ]
  },
  {
   "cell_type": "code",
   "execution_count": null,
   "metadata": {
    "dotnet_interactive": {
     "language": "pwsh"
    }
   },
   "outputs": [],
   "source": [
    "$location = \"westus2\""
   ]
  },
  {
   "cell_type": "markdown",
   "metadata": {
    "dotnet_interactive": {
     "language": "pwsh"
    }
   },
   "source": [
    "### Choose a Resource Group\n",
    "You will need a Resource group. You can either use an existing Resource Group or create a new one."
   ]
  },
  {
   "cell_type": "markdown",
   "metadata": {},
   "source": [
    " Check the current resource groups:"
   ]
  },
  {
   "cell_type": "code",
   "execution_count": null,
   "metadata": {
    "dotnet_interactive": {
     "language": "pwsh"
    }
   },
   "outputs": [],
   "source": [
    "Get-AzResourceGroup"
   ]
  },
  {
   "cell_type": "markdown",
   "metadata": {},
   "source": [
    "If you found a resource group, store it in the following variable.\n",
    "\n",
    "If you want to create a new resource group, write the name in the following variable and execute the next command."
   ]
  },
  {
   "cell_type": "code",
   "execution_count": null,
   "metadata": {
    "dotnet_interactive": {
     "language": "pwsh"
    }
   },
   "outputs": [],
   "source": [
    "$resourceGroupName = \"RG-ForVMs\""
   ]
  },
  {
   "cell_type": "code",
   "execution_count": null,
   "metadata": {
    "dotnet_interactive": {
     "language": "pwsh"
    }
   },
   "outputs": [],
   "source": [
    "New-AzResourceGroup -Name $resourceGroupName -Location $location"
   ]
  },
  {
   "cell_type": "markdown",
   "metadata": {},
   "source": [
    "### Choose the credentials\n",
    "\n",
    "More than 12 chars, 1 capital, 1 number"
   ]
  },
  {
   "cell_type": "code",
   "execution_count": null,
   "metadata": {
    "dotnet_interactive": {
     "language": "pwsh"
    }
   },
   "outputs": [
    {
     "name": "stdout",
     "output_type": "stream",
     "text": [
      "\r\n",
      "\u001b[95mPowerShell credential request\u001b[0m\r\n",
      "Enter your credentials.\r\n",
      "\r\n"
     ]
    }
   ],
   "source": [
    "$credentials = Get-Credential"
   ]
  },
  {
   "cell_type": "markdown",
   "metadata": {},
   "source": [
    "### Configure the parameters for the VM:"
   ]
  },
  {
   "cell_type": "code",
   "execution_count": null,
   "metadata": {
    "dotnet_interactive": {
     "language": "pwsh"
    }
   },
   "outputs": [
    {
     "name": "stdout",
     "output_type": "stream",
     "text": [
      "\r\n",
      "\u001b[32;1mName                           Value\u001b[0m\r\n",
      "\u001b[32;1m----                           -----\u001b[0m\r\n",
      "Size                           Standard_B2ms\r\n",
      "Location                       westus2\r\n",
      "ResourceGroupName              RG-ForVMs\r\n",
      "OpenPorts                      3389\r\n",
      "ImageName                      MicrosoftWindowsDesktop:Windows-10:win10-21h2-entn:19044.1469.220116\r\n",
      "PublicIpAddressName            Win10EntN21H2IP\r\n",
      "Name                           Win10EntN21H2\r\n",
      "Credential                     System.Management.Automation.PSCredential\r\n",
      "\r\n"
     ]
    }
   ],
   "source": [
    "$vmParams = @{\n",
    "    ResourceGroupName = $resourceGroupName\n",
    "    Name = $vmName\n",
    "    Location = $location\n",
    "    ImageName = $imageName\n",
    "    PublicIpAddressName = $vmName + \"IP\"\n",
    "    Credential = $credentials\n",
    "    OpenPorts = 3389\n",
    "    Size = $vmSize\n",
    "}\n",
    "\n",
    "$vmParams"
   ]
  },
  {
   "cell_type": "markdown",
   "metadata": {},
   "source": [
    "### Create the VM:"
   ]
  },
  {
   "cell_type": "code",
   "execution_count": null,
   "metadata": {
    "dotnet_interactive": {
     "language": "pwsh"
    }
   },
   "outputs": [
    {
     "data": {
      "text/plain": []
     },
     "metadata": {},
     "output_type": "display_data"
    },
    {
     "name": "stdout",
     "output_type": "stream",
     "text": [
      "\r\n",
      "\r\n",
      "ResourceGroupName        : RG-ForVMs\r\n",
      "Id                       : /subscriptions/1a87b471-cc7a-4906-a6b1-62f30dca342b/resourceGroups/RG-Fo\r\n",
      "rVMs/providers/Microsoft.Compute/virtualMachines/Win10EntN21H2\r\n",
      "VmId                     : 137668d0-7962-40a8-ae6a-d6479bffc3b3\r\n",
      "Name                     : Win10EntN21H2\r\n",
      "Type                     : Microsoft.Compute/virtualMachines\r\n",
      "Location                 : westus2\r\n",
      "Tags                     : {}\r\n",
      "HardwareProfile          : {VmSize}\r\n",
      "NetworkProfile           : {NetworkInterfaces}\r\n",
      "OSProfile                : {ComputerName, AdminUsername, WindowsConfiguration, Secrets, \r\n",
      "AllowExtensionOperations, RequireGuestProvisionSignal}\r\n",
      "ProvisioningState        : Succeeded\r\n",
      "StorageProfile           : {ImageReference, OsDisk, DataDisks}\r\n",
      "FullyQualifiedDomainName : win10entn21h2-9f503a.westus2.cloudapp.azure.com\r\n",
      "\r\n",
      "\r\n"
     ]
    }
   ],
   "source": [
    "$createdVMInfo = New-AzVM @vmParams\n",
    "$createdVMInfo"
   ]
  },
  {
   "cell_type": "markdown",
   "metadata": {},
   "source": [
    "To further explore the values returned, follow the instructions here:\n",
    "\n",
    "[Microsoft Docs | Get VM information with queries](https://docs.microsoft.com/en-us/powershell/azure/azureps-vm-tutorial?view=azps-7.2.0&tutorial-step=5)"
   ]
  },
  {
   "cell_type": "markdown",
   "metadata": {},
   "source": [
    "## Connect to the VM"
   ]
  },
  {
   "cell_type": "code",
   "execution_count": null,
   "metadata": {
    "dotnet_interactive": {
     "language": "pwsh"
    }
   },
   "outputs": [],
   "source": [
    "Get-AzRemoteDesktopFile -ResourceGroupName $resourceGroupName -Name $vmName -Launch"
   ]
  },
  {
   "cell_type": "markdown",
   "metadata": {},
   "source": [
    "### Save the RDP file"
   ]
  },
  {
   "cell_type": "code",
   "execution_count": null,
   "metadata": {
    "dotnet_interactive": {
     "language": "pwsh"
    }
   },
   "outputs": [],
   "source": [
    "$localPath = \"C:\\Work\\\" + $vmName + \".rdp\" \n",
    "Get-AzRemoteDesktopFile -ResourceGroupName $resourceGroupName -Name $vmName -LocalPath $localPath\n",
    "Invoke-Item $localPath"
   ]
  }
 ],
 "metadata": {
  "kernelspec": {
   "display_name": ".NET (C#)",
   "language": "C#",
   "name": ".net-csharp"
  },
  "language_info": {
   "file_extension": ".cs",
   "mimetype": "text/x-csharp",
   "name": "C#",
   "pygments_lexer": "csharp",
   "version": "9.0"
  },
  "orig_nbformat": 4
 },
 "nbformat": 4,
 "nbformat_minor": 2
}
