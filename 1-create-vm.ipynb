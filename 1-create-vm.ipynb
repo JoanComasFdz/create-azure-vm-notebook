{
 "cells": [
  {
   "cell_type": "markdown",
   "metadata": {
    "dotnet_interactive": {
     "language": "csharp"
    }
   },
   "source": [
    "# Create VM in Azure\n",
    "Follow this notebook to easily create virtual machines in Azure."
   ]
  },
  {
   "cell_type": "markdown",
   "metadata": {
    "dotnet_interactive": {
     "language": "pwsh"
    }
   },
   "source": [
    "### Choose a name for your VM\n",
    "Windows computer name cannot be more than 15 characters long, be entirely numeric, or contain the following characters: ` ~ ! @ # $ % ^ & * ( ) = + _ [ ] { } \\ | ; : . ' \" , < > / ?."
   ]
  },
  {
   "cell_type": "code",
   "execution_count": null,
   "metadata": {
    "dotnet_interactive": {
     "language": "pwsh"
    },
    "vscode": {
     "languageId": "dotnet-interactive.pwsh"
    }
   },
   "outputs": [],
   "source": [
    "$vmName = \"Win11EntN21H2\""
   ]
  },
  {
   "cell_type": "markdown",
   "metadata": {},
   "source": [
    "### Choose the VM Image\n",
    "Folllow the instructions on [1.2-get-vm-images-from-marketplace.ipynb](\"./1.2-get-vm-images-from-marketplace.ipynb\") to choose an OS Image."
   ]
  },
  {
   "cell_type": "code",
   "execution_count": null,
   "metadata": {
    "dotnet_interactive": {
     "language": "pwsh"
    },
    "vscode": {
     "languageId": "dotnet-interactive.pwsh"
    }
   },
   "outputs": [],
   "source": [
    "$imageName = \"MicrosoftWindowsDesktop:Windows-11:win11-21h2-ent:22000.978.220910\""
   ]
  },
  {
   "cell_type": "markdown",
   "metadata": {},
   "source": [
    "### Choose the region where to deploy the VM"
   ]
  },
  {
   "cell_type": "code",
   "execution_count": null,
   "metadata": {
    "dotnet_interactive": {
     "language": "pwsh"
    },
    "vscode": {
     "languageId": "dotnet-interactive.pwsh"
    }
   },
   "outputs": [],
   "source": [
    "$location = \"westus2\""
   ]
  },
  {
   "cell_type": "markdown",
   "metadata": {},
   "source": [
    "### Choose a size\n",
    "Follow the instruction on [1.1-choose-vm-size.ipynb](\"./1.1-choose-vm-size.ipynb\") to choose a VM Size."
   ]
  },
  {
   "cell_type": "code",
   "execution_count": null,
   "metadata": {
    "dotnet_interactive": {
     "language": "pwsh"
    },
    "vscode": {
     "languageId": "dotnet-interactive.pwsh"
    }
   },
   "outputs": [],
   "source": [
    "$vmSize = \"Standard_D4s_v4\""
   ]
  },
  {
   "cell_type": "markdown",
   "metadata": {
    "dotnet_interactive": {
     "language": "pwsh"
    }
   },
   "source": [
    "### Choose a Resource Group\n",
    "Follow the instruction on [1.3-choose-resource-group.ipynb](\"./1.3-choose-resource-group.ipynb\") to choose a Resource Group."
   ]
  },
  {
   "cell_type": "code",
   "execution_count": null,
   "metadata": {
    "dotnet_interactive": {
     "language": "pwsh"
    },
    "vscode": {
     "languageId": "dotnet-interactive.pwsh"
    }
   },
   "outputs": [],
   "source": [
    "$resourceGroupName = \"RG-ForVMs\""
   ]
  },
  {
   "cell_type": "markdown",
   "metadata": {},
   "source": [
    "### Choose the credentials for the admin user\n",
    "\n",
    "Password: More 8-123 chars, 1 capital, 1 number, 1 special"
   ]
  },
  {
   "cell_type": "code",
   "execution_count": null,
   "metadata": {
    "dotnet_interactive": {
     "language": "pwsh"
    },
    "vscode": {
     "languageId": "dotnet-interactive.pwsh"
    }
   },
   "outputs": [],
   "source": [
    "$credentials = Get-Credential"
   ]
  },
  {
   "cell_type": "markdown",
   "metadata": {},
   "source": [
    "### Configure the parameters for the VM:"
   ]
  },
  {
   "cell_type": "code",
   "execution_count": null,
   "metadata": {
    "dotnet_interactive": {
     "language": "pwsh"
    },
    "vscode": {
     "languageId": "dotnet-interactive.pwsh"
    }
   },
   "outputs": [],
   "source": [
    "$vmParams = @{\n",
    "    ResourceGroupName = $resourceGroupName\n",
    "    Name = $vmName\n",
    "    Location = $location\n",
    "    ImageName = $imageName\n",
    "    PublicIpAddressName = $vmName + \"IP\"\n",
    "    Credential = $credentials\n",
    "    OpenPorts = 3389\n",
    "    Size = $vmSize\n",
    "}\n",
    "\n",
    "$vmParams"
   ]
  },
  {
   "cell_type": "markdown",
   "metadata": {},
   "source": [
    "### Create the VM:"
   ]
  },
  {
   "cell_type": "code",
   "execution_count": null,
   "metadata": {
    "dotnet_interactive": {
     "language": "pwsh"
    },
    "vscode": {
     "languageId": "dotnet-interactive.pwsh"
    }
   },
   "outputs": [],
   "source": [
    "$createdVMInfo = New-AzVM @vmParams\n",
    "$createdVMInfo"
   ]
  },
  {
   "cell_type": "markdown",
   "metadata": {},
   "source": [
    "To further explore the values returned, follow the instructions here:\n",
    "\n",
    "[Microsoft Docs | Get VM information with queries](https://docs.microsoft.com/en-us/powershell/azure/azureps-vm-tutorial?view=azps-7.2.0&tutorial-step=5)"
   ]
  },
  {
   "cell_type": "markdown",
   "metadata": {},
   "source": [
    "## Connect to the VM"
   ]
  },
  {
   "cell_type": "code",
   "execution_count": null,
   "metadata": {
    "dotnet_interactive": {
     "language": "pwsh"
    },
    "vscode": {
     "languageId": "dotnet-interactive.pwsh"
    }
   },
   "outputs": [],
   "source": [
    "Get-AzRemoteDesktopFile -ResourceGroupName $resourceGroupName -Name $vmName -Launch"
   ]
  },
  {
   "cell_type": "markdown",
   "metadata": {},
   "source": [
    "### Save the RDP file"
   ]
  },
  {
   "cell_type": "code",
   "execution_count": null,
   "metadata": {
    "dotnet_interactive": {
     "language": "pwsh"
    },
    "vscode": {
     "languageId": "dotnet-interactive.pwsh"
    }
   },
   "outputs": [],
   "source": [
    "$localPath = \"C:\\Work\\\" + $vmName + \".rdp\" \n",
    "Get-AzRemoteDesktopFile -ResourceGroupName $resourceGroupName -Name $vmName -LocalPath $localPath\n",
    "Invoke-Item $localPath"
   ]
  }
 ],
 "metadata": {
  "kernelspec": {
   "display_name": ".NET (C#)",
   "language": "C#",
   "name": ".net-csharp"
  },
  "language_info": {
   "file_extension": ".cs",
   "mimetype": "text/x-csharp",
   "name": "C#",
   "pygments_lexer": "csharp",
   "version": "9.0"
  },
  "orig_nbformat": 4
 },
 "nbformat": 4,
 "nbformat_minor": 2
}
